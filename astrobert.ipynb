{
 "cells": [
  {
   "cell_type": "code",
   "execution_count": null,
   "id": "initial_id",
   "metadata": {
    "ExecuteTime": {
     "end_time": "2025-05-20T16:21:49.067730Z",
     "start_time": "2025-05-20T16:21:44.368197Z"
    }
   },
   "outputs": [],
   "source": [
    "from transformers import AutoModelForTokenClassification, AutoTokenizer, TokenClassificationPipeline\n",
    "import os"
   ]
  },
  {
   "cell_type": "code",
   "execution_count": null,
   "id": "e337f6acff09786a",
   "metadata": {
    "ExecuteTime": {
     "end_time": "2025-05-20T18:23:55.974282Z",
     "start_time": "2025-05-20T18:23:46.590664Z"
    }
   },
   "outputs": [],
   "source": [
    "# load astroBERT for NER-DEAL\n",
    "remote_model_path = 'kusha7/astrobert-gcn-tokenizer'\n",
    "hf_token=os.environ[\"hf_token\"]\n",
    "\n",
    "tokenizer = AutoTokenizer.from_pretrained(remote_model_path)\n",
    "# print(tokenizer.init_kwargs)\n",
    "# tokenizer.save_pretrained(\"./astrobert-gcn-tokenizer\")"
   ]
  },
  {
   "cell_type": "code",
   "execution_count": null,
   "id": "dd7c51a3658012e",
   "metadata": {
    "ExecuteTime": {
     "end_time": "2025-05-20T18:24:03.024643Z",
     "start_time": "2025-05-20T18:24:03.010259Z"
    }
   },
   "outputs": [],
   "source": [
    "print(tokenizer.init_kwargs)"
   ]
  },
  {
   "cell_type": "code",
   "execution_count": null,
   "id": "49f98af028432887",
   "metadata": {},
   "outputs": [],
   "source": []
  }
 ],
 "metadata": {
  "kernelspec": {
   "display_name": "Python 3 (ipykernel)",
   "language": "python",
   "name": "python3"
  },
  "language_info": {
   "codemirror_mode": {
    "name": "ipython",
    "version": 3
   },
   "file_extension": ".py",
   "mimetype": "text/x-python",
   "name": "python",
   "nbconvert_exporter": "python",
   "pygments_lexer": "ipython3",
   "version": "3.12.2"
  }
 },
 "nbformat": 4,
 "nbformat_minor": 5
}
