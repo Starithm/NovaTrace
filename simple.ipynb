{
 "cells": [
  {
   "cell_type": "raw",
   "id": "6becee9ddba0879f",
   "metadata": {},
   "source": [
    "## GNC\n",
    "# Jupyter notebook sample"
   ]
  },
  {
   "cell_type": "code",
   "execution_count": null,
   "id": "4e51a43cdfa30871",
   "metadata": {
    "ExecuteTime": {
     "start_time": "2025-05-06T18:44:04.309614Z"
    },
    "jupyter": {
     "is_executing": true
    }
   },
   "outputs": [],
   "source": [
    "from gcn_kafka import Consumer\n",
    "# Connect as a consumer (client \"Kusha Sahu\")\n",
    "# Warning: don't share the client secret with others.\n",
    "consumer = Consumer(client_id=os.env[\"gcn_client\"],client_secret=os.environ[\"gcn_secret\"])\n",
    "#print(consumer.list_topics().topics)\n",
    "\n",
    "# Subscribe to topics and receive alerts\n",
    "consumer.subscribe(['gcn.classic.text.SWIFT_UVOT_EMERGENCY'])\n",
    "while True:\n",
    "    for message in consumer.consume(timeout=1):\n",
    "        if message.error():\n",
    "            print(message.error())\n",
    "            continue\n",
    "        # Print the topic and message ID\n",
    "        print(f'topic={message.topic()}, offset={message.offset()}')\n",
    "        value = message.value()\n",
    "        print(value)"
   ]
  },
  {
   "cell_type": "code",
   "execution_count": null,
   "id": "e81101c1359fa433",
   "metadata": {},
   "outputs": [],
   "source": []
  }
 ],
 "metadata": {
  "kernelspec": {
   "display_name": "Python 3 (ipykernel)",
   "language": "python",
   "name": "python3"
  },
  "language_info": {
   "codemirror_mode": {
    "name": "ipython",
    "version": 3
   },
   "file_extension": ".py",
   "mimetype": "text/x-python",
   "name": "python",
   "nbconvert_exporter": "python",
   "pygments_lexer": "ipython3",
   "version": "3.12.2"
  }
 },
 "nbformat": 4,
 "nbformat_minor": 5
}
