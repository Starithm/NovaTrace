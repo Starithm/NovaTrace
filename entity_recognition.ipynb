{
 "cells": [
  {
   "cell_type": "code",
   "execution_count": null,
   "id": "d664821895f5d409",
   "metadata": {
    "ExecuteTime": {
     "end_time": "2025-05-21T16:56:18.747819Z",
     "start_time": "2025-05-21T16:56:13.490625Z"
    }
   },
   "outputs": [],
   "source": [
    "import json\n",
    "import torch\n",
    "import spacy\n",
    "import common\n",
    "from transformers import AutoModelForTokenClassification, AutoTokenizer, pipeline\n"
   ]
  },
  {
   "cell_type": "code",
   "execution_count": null,
   "id": "initial_id",
   "metadata": {
    "ExecuteTime": {
     "end_time": "2025-05-21T17:03:43.318365Z",
     "start_time": "2025-05-21T17:03:43.306982Z"
    }
   },
   "outputs": [],
   "source": [
    "sub_cirs = range(21916, 21916+50)\n",
    "    #[21916, 21917,21923, 21924, 21930,21941,22115,22281,22942]\n",
    "#sub_cirs = [21917]\n",
    "print([c for c in sub_cirs])\n"
   ]
  },
  {
   "cell_type": "code",
   "execution_count": null,
   "id": "e9e3f169caecf937",
   "metadata": {
    "ExecuteTime": {
     "end_time": "2025-05-21T17:03:51.502913Z",
     "start_time": "2025-05-21T17:03:51.466868Z"
    }
   },
   "outputs": [],
   "source": [
    "output = common.get_circulars(sub_cirs)\n",
    "print(output[0])"
   ]
  },
  {
   "cell_type": "code",
   "execution_count": null,
   "id": "ec611a4430b67e4e",
   "metadata": {
    "ExecuteTime": {
     "end_time": "2025-05-21T17:03:58.054242Z",
     "start_time": "2025-05-21T17:03:52.773240Z"
    }
   },
   "outputs": [],
   "source": [
    "remote_model_path = 'kusha7/astrobert-gcn-tokenizer'\n",
    "hf_token=os.environ[\"hf_token\"]\n",
    "tokenizer = AutoTokenizer.from_pretrained(remote_model_path, token=hf_token)\n",
    "model = AutoModelForTokenClassification.from_pretrained(\n",
    "    \"kusha7/astrobert-gcn-tokenizer\", token=hf_token\n",
    ")\n",
    "ner_pipeline = pipeline(\"ner\", model=model, tokenizer=tokenizer, aggregation_strategy=\"none\")"
   ]
  },
  {
   "cell_type": "code",
   "execution_count": null,
   "id": "fb205f36d87fe6b2",
   "metadata": {
    "ExecuteTime": {
     "end_time": "2025-05-21T17:03:58.657338Z",
     "start_time": "2025-05-21T17:03:58.169293Z"
    }
   },
   "outputs": [],
   "source": [
    "nlp = spacy.load(\"en_core_web_sm\")\n",
    "label_list = model.config.id2label\n",
    "device = torch.device(\"mps\" if torch.backends.mps.is_available() else \"cpu\")\n",
    "def get_att(cir):\n",
    "    text = cir[\"body\"]\n",
    "    doc = nlp(text)\n",
    "    sentences = [sent.text.strip() for sent in doc.sents]\n",
    "    # print(sentences)\n",
    "    full_tokens = []\n",
    "    for sent in sentences:\n",
    "        print(\"sent\", sent)\n",
    "        inputs = tokenizer(sent, return_tensors=\"pt\", return_offsets_mapping=True, truncation=True)\n",
    "        offset_mapping = inputs.pop(\"offset_mapping\")\n",
    "        # Move input tensors to device\n",
    "        inputs = {k: v.to(device) for k, v in inputs.items()}\n",
    "\n",
    "        with torch.no_grad():\n",
    "            outputs = model(**inputs, return_dict=True)\n",
    "\n",
    "        logits = outputs.logits.cpu()\n",
    "\n",
    "        predictions = torch.argmax(logits, dim=2)\n",
    "\n",
    "        tokens = tokenizer.convert_ids_to_tokens(inputs[\"input_ids\"][0])\n",
    "        offsets = offset_mapping[0].tolist()\n",
    "\n",
    "        # Format output\n",
    "\n",
    "        for token, offset, pred_id in zip(tokens, offsets, predictions[0]):\n",
    "            label = label_list[pred_id.item()]\n",
    "            full_tokens.append({\n",
    "                \"token\": token,\n",
    "                \"start\": offset[0],\n",
    "                \"end\": offset[1],\n",
    "                \"label\": label\n",
    "            })\n",
    "\n",
    "        # Output includes all tokens — even those labeled \"O\"\n",
    "    return common.merge_subwords(full_tokens)"
   ]
  },
  {
   "cell_type": "code",
   "execution_count": null,
   "id": "a12eaf6dd583ccd2",
   "metadata": {},
   "outputs": [],
   "source": []
  },
  {
   "cell_type": "code",
   "execution_count": null,
   "id": "d8607e9e866be20d",
   "metadata": {
    "ExecuteTime": {
     "end_time": "2025-05-21T17:05:35.525168Z",
     "start_time": "2025-05-21T17:03:58.688Z"
    }
   },
   "outputs": [],
   "source": [
    "def build_atts_from_cir(json_circulars):\n",
    "    new_list = []\n",
    "    for sub_cir in json_circulars:\n",
    "        new_obj = sub_cir.copy()\n",
    "        text = sub_cir[\"body\"]\n",
    "        new_obj[\"body\"] = text.replace(\"\\n\", \" \")\n",
    "        new_obj[\"new_pipeline_output\"] = get_att(new_obj)\n",
    "        new_list.append(new_obj)\n",
    "    return new_list\n"
   ]
  },
  {
   "cell_type": "code",
   "execution_count": null,
   "id": "c2c0193aa8448df6",
   "metadata": {},
   "outputs": [],
   "source": [
    "output_bio_2 = build_atts_from_cir(output)\n",
    "# print(output_bio_2[0][\"body\"])\n",
    "print(output_bio_2[0][\"new_pipeline_output\"])\n"
   ]
  }
 ],
 "metadata": {
  "kernelspec": {
   "display_name": "Python 3 (ipykernel)",
   "language": "python",
   "name": "python3"
  },
  "language_info": {
   "codemirror_mode": {
    "name": "ipython",
    "version": 3
   },
   "file_extension": ".py",
   "mimetype": "text/x-python",
   "name": "python",
   "nbconvert_exporter": "python",
   "pygments_lexer": "ipython3",
   "version": "3.12.2"
  }
 },
 "nbformat": 4,
 "nbformat_minor": 5
}
