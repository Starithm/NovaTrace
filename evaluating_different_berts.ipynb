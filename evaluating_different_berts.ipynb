{
 "cells": [
  {
   "cell_type": "code",
   "execution_count": null,
   "id": "initial_id",
   "metadata": {
    "ExecuteTime": {
     "end_time": "2025-05-24T11:21:55.337892Z",
     "start_time": "2025-05-24T11:21:44.738718Z"
    }
   },
   "outputs": [],
   "source": [
    "import torch\n",
    "import spacy\n",
    "import common\n",
    "from transformers import AutoModelForTokenClassification, AutoTokenizer, pipeline\n"
   ]
  },
  {
   "cell_type": "code",
   "execution_count": null,
   "id": "df7ba4ef7d409f73",
   "metadata": {
    "ExecuteTime": {
     "end_time": "2025-05-24T11:23:16.712454Z",
     "start_time": "2025-05-24T11:23:16.691735Z"
    }
   },
   "outputs": [],
   "source": [
    "#sub_cirs = range(21916, 21916+50)\n",
    "sub_cirs = range(21916, 21916+10)\n",
    "print([c for c in sub_cirs])\n",
    "models = [\n",
    "    # {\n",
    "    #     \"name\": \"Astrobert Original\",\n",
    "    #     \"path\": \"kusha7/astrobert-gcn-tokenizer\"\n",
    "    # },\n",
    "    # {\n",
    "    #     \"name\": \"Physbert-Cased\",\n",
    "    #     \"path\": 'thellert/physbert_cased'\n",
    "    # },\n",
    "    # {\n",
    "    #     \"name\": \"Physbert-Uncased\",\n",
    "    #     \"path\": \"thellert/physbert_uncased\"\n",
    "    # },\n",
    "    # {\n",
    "    #     \"name\": \"AstroMLab-8BGGUF\", #DIDNT WORK\n",
    "    #     \"path\": \"AstroMLab/AstroSage-8B-GGUF\"\n",
    "    # },\n",
    "    # {\n",
    "    #     \"name\": \"AstroMLab-sage8B\", #TOO BIG TO USE LOCALLY\n",
    "    #     \"path\": \"AstroMLab/AstroSage-8B\"\n",
    "    # },\n",
    "    {\n",
    "        \"name\":\"astro-hep-bert\",\n",
    "        \"path\": \"arnosimons/astro-hep-bert\"\n",
    "    }\n",
    "\n",
    "]\n",
    "hf_token=os.enviro[\"hf_token\"]\n",
    "parent_results_folder = 'different_model_results'\n"
   ]
  },
  {
   "cell_type": "code",
   "execution_count": null,
   "id": "bcf92f95c2b1b93b",
   "metadata": {
    "ExecuteTime": {
     "end_time": "2025-05-24T11:23:17.639843Z",
     "start_time": "2025-05-24T11:23:17.620597Z"
    }
   },
   "outputs": [],
   "source": [
    "circulars = common.get_circulars(sub_cirs)\n",
    "print(circulars[0])"
   ]
  },
  {
   "cell_type": "code",
   "execution_count": null,
   "id": "23cbb4fa7d8a7cd9",
   "metadata": {
    "ExecuteTime": {
     "end_time": "2025-05-24T11:23:52.513175Z",
     "start_time": "2025-05-24T11:23:18.414884Z"
    }
   },
   "outputs": [],
   "source": [
    "# remote_model_path = 'kusha7/astrobert-gcn-tokenizer'\n",
    "nlp = spacy.load(\"en_core_web_sm\")\n",
    "device = torch.device(\"mps\" if torch.backends.mps.is_available() else \"cpu\")\n",
    "for m in models:\n",
    "    remote_model_path = m['path']\n",
    "    model_name = m[\"name\"]\n",
    "    tokenizer = AutoTokenizer.from_pretrained(remote_model_path, token=hf_token)\n",
    "    model = AutoModelForTokenClassification.from_pretrained(remote_model_path, token=hf_token)\n",
    "\n",
    "    label_list = model.config.id2label\n",
    "    output = common.generate_partial_sentence_level_bio_format(circulars, tokenizer=tokenizer, model=model, nlp=nlp, label_list=label_list)\n",
    "    common.create_bio_files(output, f\"{parent_results_folder}/{model_name}\")\n"
   ]
  },
  {
   "cell_type": "code",
   "execution_count": null,
   "id": "cd9be775517fc9a9",
   "metadata": {},
   "outputs": [],
   "source": []
  }
 ],
 "metadata": {
  "kernelspec": {
   "display_name": "Python 3 (ipykernel)",
   "language": "python",
   "name": "python3"
  },
  "language_info": {
   "codemirror_mode": {
    "name": "ipython",
    "version": 3
   },
   "file_extension": ".py",
   "mimetype": "text/x-python",
   "name": "python",
   "nbconvert_exporter": "python",
   "pygments_lexer": "ipython3",
   "version": "3.12.2"
  }
 },
 "nbformat": 4,
 "nbformat_minor": 5
}
